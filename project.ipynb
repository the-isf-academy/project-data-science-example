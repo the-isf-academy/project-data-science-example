{
 "cells": [
  {
   "cell_type": "markdown",
   "id": "worldwide-blood",
   "metadata": {},
   "source": [
    "# Introduction"
   ]
  },
  {
   "cell_type": "markdown",
   "id": "understanding-numbers",
   "metadata": {},
   "source": [
    "<img src=\"INSERTLINK\">\n",
    "\n",
    "[Caption](INSERTLINK)"
   ]
  },
  {
   "cell_type": "markdown",
   "id": "greater-circular",
   "metadata": {},
   "source": [
    "## How does grade level affect the usage of technology?\n"
   ]
  },
  {
   "cell_type": "markdown",
   "id": "immune-palestinian",
   "metadata": {},
   "source": [
    "    The reason why I am interested in exploring this question since i am in a higher grade, I have noticed that the overall usage of my mobile device has dropped when compared to G7, therefore I would like to compare the data  to see if that is similar among other students. As students in lower grades may not have as much work to       complete while compared to other students in higher grades. Using this data I could then see if I am a minority or with the majority of the students.\n"
   ]
  },
  {
   "cell_type": "markdown",
   "id": "permanent-pollution",
   "metadata": {},
   "source": [
    "# Data"
   ]
  },
  {
   "cell_type": "code",
   "execution_count": 2,
   "id": "technical-evans",
   "metadata": {},
   "outputs": [],
   "source": [
    "#Include any import statements yo|u will need\n",
    "import pandas as pd\n",
    "import matplotlib.pyplot as plt\n",
    "import numpy as np # linear algebra"
   ]
  },
  {
   "cell_type": "markdown",
   "id": "every-quantity",
   "metadata": {},
   "source": [
    "All data set which will be used through out the whole project."
   ]
  },
  {
   "cell_type": "code",
   "execution_count": 3,
   "id": "overhead-sigma",
   "metadata": {
    "scrolled": true
   },
   "outputs": [
    {
     "data": {
      "text/html": [
       "<div>\n",
       "<style scoped>\n",
       "    .dataframe tbody tr th:only-of-type {\n",
       "        vertical-align: middle;\n",
       "    }\n",
       "\n",
       "    .dataframe tbody tr th {\n",
       "        vertical-align: top;\n",
       "    }\n",
       "\n",
       "    .dataframe thead th {\n",
       "        text-align: right;\n",
       "    }\n",
       "</style>\n",
       "<table border=\"1\" class=\"dataframe\">\n",
       "  <thead>\n",
       "    <tr style=\"text-align: right;\">\n",
       "      <th></th>\n",
       "      <th>timestamp</th>\n",
       "      <th>grade</th>\n",
       "      <th>gender</th>\n",
       "      <th>num_courses</th>\n",
       "      <th>num_cca</th>\n",
       "      <th>num_homework_hours_per_day</th>\n",
       "      <th>num_after_school_activities_per_week</th>\n",
       "      <th>parental_controls_enabled</th>\n",
       "      <th>parental_controls_app_restrictions_enabled</th>\n",
       "      <th>parental_controls_screen_time_limits_enabled</th>\n",
       "      <th>...</th>\n",
       "      <th>sm_accounts_none</th>\n",
       "      <th>most_used_sm_platforms</th>\n",
       "      <th>time_rest_eyes_after_screen_use</th>\n",
       "      <th>time_stop_use_before_sleep</th>\n",
       "      <th>time_start_use_after_wakeup</th>\n",
       "      <th>sm_activity_frequency_comp_leave_house</th>\n",
       "      <th>sm_activity_frequency_comp_exercise</th>\n",
       "      <th>sm_activity_frequency_comp_social_anxiety</th>\n",
       "      <th>sm_activity_frequency_comp_social_confidence</th>\n",
       "      <th>sm_activity_frequency_comp_community_connection</th>\n",
       "    </tr>\n",
       "  </thead>\n",
       "  <tbody>\n",
       "    <tr>\n",
       "      <th>0</th>\n",
       "      <td>2/1/2021 11:08:43</td>\n",
       "      <td>7</td>\n",
       "      <td>Female</td>\n",
       "      <td>NaN</td>\n",
       "      <td>NaN</td>\n",
       "      <td>3.0</td>\n",
       "      <td>5.0</td>\n",
       "      <td>True</td>\n",
       "      <td>True</td>\n",
       "      <td>True</td>\n",
       "      <td>...</td>\n",
       "      <td>False</td>\n",
       "      <td>Discord</td>\n",
       "      <td>Sometimes</td>\n",
       "      <td>20.0</td>\n",
       "      <td>0.0</td>\n",
       "      <td>Much less often</td>\n",
       "      <td>About the same</td>\n",
       "      <td>Much more often</td>\n",
       "      <td>Much less often</td>\n",
       "      <td>Somewhat less often</td>\n",
       "    </tr>\n",
       "    <tr>\n",
       "      <th>1</th>\n",
       "      <td>2/1/2021 11:10:27</td>\n",
       "      <td>7</td>\n",
       "      <td>Female</td>\n",
       "      <td>NaN</td>\n",
       "      <td>3.0</td>\n",
       "      <td>2.5</td>\n",
       "      <td>1.0</td>\n",
       "      <td>True</td>\n",
       "      <td>False</td>\n",
       "      <td>False</td>\n",
       "      <td>...</td>\n",
       "      <td>False</td>\n",
       "      <td>Instagram</td>\n",
       "      <td>Rarely</td>\n",
       "      <td>1.0</td>\n",
       "      <td>1.0</td>\n",
       "      <td>About the same</td>\n",
       "      <td>Somewhat more often</td>\n",
       "      <td>Much more often</td>\n",
       "      <td>Somewhat less often</td>\n",
       "      <td>Much more often</td>\n",
       "    </tr>\n",
       "    <tr>\n",
       "      <th>2</th>\n",
       "      <td>2/1/2021 11:11:28</td>\n",
       "      <td>9</td>\n",
       "      <td>Female</td>\n",
       "      <td>8.0</td>\n",
       "      <td>1.0</td>\n",
       "      <td>1.5</td>\n",
       "      <td>8.0</td>\n",
       "      <td>True</td>\n",
       "      <td>True</td>\n",
       "      <td>False</td>\n",
       "      <td>...</td>\n",
       "      <td>False</td>\n",
       "      <td>Instagram</td>\n",
       "      <td>Always</td>\n",
       "      <td>10.0</td>\n",
       "      <td>340.0</td>\n",
       "      <td>Somewhat less often</td>\n",
       "      <td>Much less often</td>\n",
       "      <td>Much less often</td>\n",
       "      <td>About the same</td>\n",
       "      <td>About the same</td>\n",
       "    </tr>\n",
       "    <tr>\n",
       "      <th>3</th>\n",
       "      <td>2/1/2021 11:13:16</td>\n",
       "      <td>7</td>\n",
       "      <td>Male</td>\n",
       "      <td>10.0</td>\n",
       "      <td>4.0</td>\n",
       "      <td>2.5</td>\n",
       "      <td>2.0</td>\n",
       "      <td>True</td>\n",
       "      <td>False</td>\n",
       "      <td>False</td>\n",
       "      <td>...</td>\n",
       "      <td>False</td>\n",
       "      <td>Youtube</td>\n",
       "      <td>Sometimes</td>\n",
       "      <td>20.0</td>\n",
       "      <td>30.0</td>\n",
       "      <td>Somewhat less often</td>\n",
       "      <td>About the same</td>\n",
       "      <td>Much less often</td>\n",
       "      <td>Somewhat more often</td>\n",
       "      <td>Much more often</td>\n",
       "    </tr>\n",
       "    <tr>\n",
       "      <th>4</th>\n",
       "      <td>2/1/2021 11:14:56</td>\n",
       "      <td>6</td>\n",
       "      <td>Toad</td>\n",
       "      <td>12.0</td>\n",
       "      <td>3.0</td>\n",
       "      <td>0.0</td>\n",
       "      <td>2.0</td>\n",
       "      <td>False</td>\n",
       "      <td>NaN</td>\n",
       "      <td>NaN</td>\n",
       "      <td>...</td>\n",
       "      <td>False</td>\n",
       "      <td>Youtube</td>\n",
       "      <td>Often</td>\n",
       "      <td>60.0</td>\n",
       "      <td>30.0</td>\n",
       "      <td>Somewhat more often</td>\n",
       "      <td>About the same</td>\n",
       "      <td>About the same</td>\n",
       "      <td>Somewhat more often</td>\n",
       "      <td>Somewhat more often</td>\n",
       "    </tr>\n",
       "    <tr>\n",
       "      <th>...</th>\n",
       "      <td>...</td>\n",
       "      <td>...</td>\n",
       "      <td>...</td>\n",
       "      <td>...</td>\n",
       "      <td>...</td>\n",
       "      <td>...</td>\n",
       "      <td>...</td>\n",
       "      <td>...</td>\n",
       "      <td>...</td>\n",
       "      <td>...</td>\n",
       "      <td>...</td>\n",
       "      <td>...</td>\n",
       "      <td>...</td>\n",
       "      <td>...</td>\n",
       "      <td>...</td>\n",
       "      <td>...</td>\n",
       "      <td>...</td>\n",
       "      <td>...</td>\n",
       "      <td>...</td>\n",
       "      <td>...</td>\n",
       "      <td>...</td>\n",
       "    </tr>\n",
       "    <tr>\n",
       "      <th>82</th>\n",
       "      <td>2/3/2021 14:18:27</td>\n",
       "      <td>10</td>\n",
       "      <td>Female</td>\n",
       "      <td>8.0</td>\n",
       "      <td>2.0</td>\n",
       "      <td>NaN</td>\n",
       "      <td>1.0</td>\n",
       "      <td>False</td>\n",
       "      <td>NaN</td>\n",
       "      <td>NaN</td>\n",
       "      <td>...</td>\n",
       "      <td>False</td>\n",
       "      <td>Instagram</td>\n",
       "      <td>Sometimes</td>\n",
       "      <td>30.0</td>\n",
       "      <td>60.0</td>\n",
       "      <td>NaN</td>\n",
       "      <td>NaN</td>\n",
       "      <td>NaN</td>\n",
       "      <td>NaN</td>\n",
       "      <td>NaN</td>\n",
       "    </tr>\n",
       "    <tr>\n",
       "      <th>83</th>\n",
       "      <td>2/3/2021 17:01:13</td>\n",
       "      <td>7</td>\n",
       "      <td>Male</td>\n",
       "      <td>11.0</td>\n",
       "      <td>2.0</td>\n",
       "      <td>2.0</td>\n",
       "      <td>3.0</td>\n",
       "      <td>False</td>\n",
       "      <td>NaN</td>\n",
       "      <td>NaN</td>\n",
       "      <td>...</td>\n",
       "      <td>False</td>\n",
       "      <td>Youtube</td>\n",
       "      <td>Sometimes</td>\n",
       "      <td>30.0</td>\n",
       "      <td>3.0</td>\n",
       "      <td>Somewhat less often</td>\n",
       "      <td>Somewhat less often</td>\n",
       "      <td>About the same</td>\n",
       "      <td>Somewhat less often</td>\n",
       "      <td>Somewhat more often</td>\n",
       "    </tr>\n",
       "    <tr>\n",
       "      <th>84</th>\n",
       "      <td>2/3/2021 20:37:54</td>\n",
       "      <td>7</td>\n",
       "      <td>Male</td>\n",
       "      <td>11.0</td>\n",
       "      <td>4.0</td>\n",
       "      <td>4.5</td>\n",
       "      <td>2.0</td>\n",
       "      <td>False</td>\n",
       "      <td>NaN</td>\n",
       "      <td>NaN</td>\n",
       "      <td>...</td>\n",
       "      <td>False</td>\n",
       "      <td>Youtube</td>\n",
       "      <td>Rarely</td>\n",
       "      <td>1.0</td>\n",
       "      <td>3.0</td>\n",
       "      <td>NaN</td>\n",
       "      <td>NaN</td>\n",
       "      <td>NaN</td>\n",
       "      <td>NaN</td>\n",
       "      <td>NaN</td>\n",
       "    </tr>\n",
       "    <tr>\n",
       "      <th>85</th>\n",
       "      <td>2/3/2021 21:31:11</td>\n",
       "      <td>6</td>\n",
       "      <td>Male</td>\n",
       "      <td>11.0</td>\n",
       "      <td>1.0</td>\n",
       "      <td>1.0</td>\n",
       "      <td>7.0</td>\n",
       "      <td>True</td>\n",
       "      <td>True</td>\n",
       "      <td>True</td>\n",
       "      <td>...</td>\n",
       "      <td>False</td>\n",
       "      <td>Youtube</td>\n",
       "      <td>Often</td>\n",
       "      <td>30.0</td>\n",
       "      <td>15.0</td>\n",
       "      <td>About the same</td>\n",
       "      <td>Somewhat less often</td>\n",
       "      <td>Somewhat less often</td>\n",
       "      <td>Somewhat more often</td>\n",
       "      <td>Much more often</td>\n",
       "    </tr>\n",
       "    <tr>\n",
       "      <th>86</th>\n",
       "      <td>2/5/2021 12:53:01</td>\n",
       "      <td>9</td>\n",
       "      <td>Female</td>\n",
       "      <td>9.0</td>\n",
       "      <td>3.0</td>\n",
       "      <td>2.5</td>\n",
       "      <td>6.0</td>\n",
       "      <td>True</td>\n",
       "      <td>False</td>\n",
       "      <td>True</td>\n",
       "      <td>...</td>\n",
       "      <td>False</td>\n",
       "      <td>Instagram</td>\n",
       "      <td>Rarely</td>\n",
       "      <td>0.0</td>\n",
       "      <td>5.0</td>\n",
       "      <td>Much more often</td>\n",
       "      <td>Much more often</td>\n",
       "      <td>Much less often</td>\n",
       "      <td>Much more often</td>\n",
       "      <td>Much more often</td>\n",
       "    </tr>\n",
       "  </tbody>\n",
       "</table>\n",
       "<p>87 rows × 56 columns</p>\n",
       "</div>"
      ],
      "text/plain": [
       "            timestamp  grade  gender  num_courses  num_cca  \\\n",
       "0   2/1/2021 11:08:43      7  Female          NaN      NaN   \n",
       "1   2/1/2021 11:10:27      7  Female          NaN      3.0   \n",
       "2   2/1/2021 11:11:28      9  Female          8.0      1.0   \n",
       "3   2/1/2021 11:13:16      7    Male         10.0      4.0   \n",
       "4   2/1/2021 11:14:56      6    Toad         12.0      3.0   \n",
       "..                ...    ...     ...          ...      ...   \n",
       "82  2/3/2021 14:18:27     10  Female          8.0      2.0   \n",
       "83  2/3/2021 17:01:13      7    Male         11.0      2.0   \n",
       "84  2/3/2021 20:37:54      7    Male         11.0      4.0   \n",
       "85  2/3/2021 21:31:11      6    Male         11.0      1.0   \n",
       "86  2/5/2021 12:53:01      9  Female          9.0      3.0   \n",
       "\n",
       "    num_homework_hours_per_day  num_after_school_activities_per_week  \\\n",
       "0                          3.0                                   5.0   \n",
       "1                          2.5                                   1.0   \n",
       "2                          1.5                                   8.0   \n",
       "3                          2.5                                   2.0   \n",
       "4                          0.0                                   2.0   \n",
       "..                         ...                                   ...   \n",
       "82                         NaN                                   1.0   \n",
       "83                         2.0                                   3.0   \n",
       "84                         4.5                                   2.0   \n",
       "85                         1.0                                   7.0   \n",
       "86                         2.5                                   6.0   \n",
       "\n",
       "   parental_controls_enabled parental_controls_app_restrictions_enabled  \\\n",
       "0                       True                                       True   \n",
       "1                       True                                      False   \n",
       "2                       True                                       True   \n",
       "3                       True                                      False   \n",
       "4                      False                                        NaN   \n",
       "..                       ...                                        ...   \n",
       "82                     False                                        NaN   \n",
       "83                     False                                        NaN   \n",
       "84                     False                                        NaN   \n",
       "85                      True                                       True   \n",
       "86                      True                                      False   \n",
       "\n",
       "   parental_controls_screen_time_limits_enabled  ... sm_accounts_none  \\\n",
       "0                                          True  ...            False   \n",
       "1                                         False  ...            False   \n",
       "2                                         False  ...            False   \n",
       "3                                         False  ...            False   \n",
       "4                                           NaN  ...            False   \n",
       "..                                          ...  ...              ...   \n",
       "82                                          NaN  ...            False   \n",
       "83                                          NaN  ...            False   \n",
       "84                                          NaN  ...            False   \n",
       "85                                         True  ...            False   \n",
       "86                                         True  ...            False   \n",
       "\n",
       "   most_used_sm_platforms  time_rest_eyes_after_screen_use  \\\n",
       "0                 Discord                        Sometimes   \n",
       "1               Instagram                           Rarely   \n",
       "2               Instagram                           Always   \n",
       "3                 Youtube                        Sometimes   \n",
       "4                 Youtube                            Often   \n",
       "..                    ...                              ...   \n",
       "82              Instagram                        Sometimes   \n",
       "83                Youtube                        Sometimes   \n",
       "84                Youtube                           Rarely   \n",
       "85                Youtube                            Often   \n",
       "86              Instagram                           Rarely   \n",
       "\n",
       "    time_stop_use_before_sleep time_start_use_after_wakeup  \\\n",
       "0                         20.0                         0.0   \n",
       "1                          1.0                         1.0   \n",
       "2                         10.0                       340.0   \n",
       "3                         20.0                        30.0   \n",
       "4                         60.0                        30.0   \n",
       "..                         ...                         ...   \n",
       "82                        30.0                        60.0   \n",
       "83                        30.0                         3.0   \n",
       "84                         1.0                         3.0   \n",
       "85                        30.0                        15.0   \n",
       "86                         0.0                         5.0   \n",
       "\n",
       "   sm_activity_frequency_comp_leave_house sm_activity_frequency_comp_exercise  \\\n",
       "0                         Much less often                      About the same   \n",
       "1                          About the same                 Somewhat more often   \n",
       "2                     Somewhat less often                     Much less often   \n",
       "3                     Somewhat less often                      About the same   \n",
       "4                     Somewhat more often                      About the same   \n",
       "..                                    ...                                 ...   \n",
       "82                                    NaN                                 NaN   \n",
       "83                    Somewhat less often                 Somewhat less often   \n",
       "84                                    NaN                                 NaN   \n",
       "85                         About the same                 Somewhat less often   \n",
       "86                        Much more often                     Much more often   \n",
       "\n",
       "   sm_activity_frequency_comp_social_anxiety  \\\n",
       "0                            Much more often   \n",
       "1                            Much more often   \n",
       "2                            Much less often   \n",
       "3                            Much less often   \n",
       "4                             About the same   \n",
       "..                                       ...   \n",
       "82                                       NaN   \n",
       "83                            About the same   \n",
       "84                                       NaN   \n",
       "85                       Somewhat less often   \n",
       "86                           Much less often   \n",
       "\n",
       "   sm_activity_frequency_comp_social_confidence  \\\n",
       "0                               Much less often   \n",
       "1                           Somewhat less often   \n",
       "2                                About the same   \n",
       "3                           Somewhat more often   \n",
       "4                           Somewhat more often   \n",
       "..                                          ...   \n",
       "82                                          NaN   \n",
       "83                          Somewhat less often   \n",
       "84                                          NaN   \n",
       "85                          Somewhat more often   \n",
       "86                              Much more often   \n",
       "\n",
       "   sm_activity_frequency_comp_community_connection  \n",
       "0                              Somewhat less often  \n",
       "1                                  Much more often  \n",
       "2                                   About the same  \n",
       "3                                  Much more often  \n",
       "4                              Somewhat more often  \n",
       "..                                             ...  \n",
       "82                                             NaN  \n",
       "83                             Somewhat more often  \n",
       "84                                             NaN  \n",
       "85                                 Much more often  \n",
       "86                                 Much more often  \n",
       "\n",
       "[87 rows x 56 columns]"
      ]
     },
     "execution_count": 3,
     "metadata": {},
     "output_type": "execute_result"
    }
   ],
   "source": [
    "# Setting a df to use later in the code\n",
    "df = pd.read_csv('data/tech_use_survey_responses_cleaned.csv')\n",
    "df.head(100)"
   ]
  },
  {
   "cell_type": "code",
   "execution_count": 4,
   "id": "average-violin",
   "metadata": {
    "scrolled": true
   },
   "outputs": [
    {
     "data": {
      "text/html": [
       "<div>\n",
       "<style scoped>\n",
       "    .dataframe tbody tr th:only-of-type {\n",
       "        vertical-align: middle;\n",
       "    }\n",
       "\n",
       "    .dataframe tbody tr th {\n",
       "        vertical-align: top;\n",
       "    }\n",
       "\n",
       "    .dataframe thead th {\n",
       "        text-align: right;\n",
       "    }\n",
       "</style>\n",
       "<table border=\"1\" class=\"dataframe\">\n",
       "  <thead>\n",
       "    <tr style=\"text-align: right;\">\n",
       "      <th></th>\n",
       "      <th>time_on_apps_per_week_self_report_social</th>\n",
       "      <th>grade</th>\n",
       "    </tr>\n",
       "  </thead>\n",
       "  <tbody>\n",
       "    <tr>\n",
       "      <th>0</th>\n",
       "      <td>&lt; 10m</td>\n",
       "      <td>7</td>\n",
       "    </tr>\n",
       "    <tr>\n",
       "      <th>1</th>\n",
       "      <td>1-2 hours</td>\n",
       "      <td>7</td>\n",
       "    </tr>\n",
       "    <tr>\n",
       "      <th>2</th>\n",
       "      <td>1-2 hours</td>\n",
       "      <td>9</td>\n",
       "    </tr>\n",
       "    <tr>\n",
       "      <th>3</th>\n",
       "      <td>&lt; 10m</td>\n",
       "      <td>7</td>\n",
       "    </tr>\n",
       "    <tr>\n",
       "      <th>4</th>\n",
       "      <td>2+ hours</td>\n",
       "      <td>6</td>\n",
       "    </tr>\n",
       "    <tr>\n",
       "      <th>...</th>\n",
       "      <td>...</td>\n",
       "      <td>...</td>\n",
       "    </tr>\n",
       "    <tr>\n",
       "      <th>82</th>\n",
       "      <td>30m-60m</td>\n",
       "      <td>10</td>\n",
       "    </tr>\n",
       "    <tr>\n",
       "      <th>83</th>\n",
       "      <td>&lt; 10m</td>\n",
       "      <td>7</td>\n",
       "    </tr>\n",
       "    <tr>\n",
       "      <th>84</th>\n",
       "      <td>&lt; 10m</td>\n",
       "      <td>7</td>\n",
       "    </tr>\n",
       "    <tr>\n",
       "      <th>85</th>\n",
       "      <td>10-30m</td>\n",
       "      <td>6</td>\n",
       "    </tr>\n",
       "    <tr>\n",
       "      <th>86</th>\n",
       "      <td>30m-60m</td>\n",
       "      <td>9</td>\n",
       "    </tr>\n",
       "  </tbody>\n",
       "</table>\n",
       "<p>85 rows × 2 columns</p>\n",
       "</div>"
      ],
      "text/plain": [
       "   time_on_apps_per_week_self_report_social  grade\n",
       "0                                     < 10m      7\n",
       "1                                 1-2 hours      7\n",
       "2                                 1-2 hours      9\n",
       "3                                     < 10m      7\n",
       "4                                  2+ hours      6\n",
       "..                                      ...    ...\n",
       "82                                  30m-60m     10\n",
       "83                                    < 10m      7\n",
       "84                                    < 10m      7\n",
       "85                                   10-30m      6\n",
       "86                                  30m-60m      9\n",
       "\n",
       "[85 rows x 2 columns]"
      ]
     },
     "execution_count": 4,
     "metadata": {},
     "output_type": "execute_result"
    }
   ],
   "source": [
    "# filtering the data for 2 specific columns which will be used\n",
    "Time_SM_df = df[[\"time_on_apps_per_week_self_report_social\",\"grade\"]].dropna()\n",
    "Time_SM_df.head(100)"
   ]
  },
  {
   "cell_type": "markdown",
   "id": "continental-franklin",
   "metadata": {},
   "source": [
    "**What is this data about?**"
   ]
  },
  {
   "cell_type": "markdown",
   "id": "wired-parliament",
   "metadata": {},
   "source": [
    "The data is about the general usage of social media of students in ISF."
   ]
  },
  {
   "cell_type": "markdown",
   "id": "joined-prayer",
   "metadata": {},
   "source": [
    "**Where is this data from?**"
   ]
  },
  {
   "cell_type": "markdown",
   "id": "convinced-pollution",
   "metadata": {},
   "source": [
    "The dataset was created with a group of computer science students who raised a variety of questions relating technology/ social media use. The dataset was collected through a Google form. The data was collected through an email sent to the whole ISF secondary school, those who answered would have their data collected. This survey was open to students from the week before Chinese new year till Chinese new year."
   ]
  },
  {
   "cell_type": "markdown",
   "id": "alternate-pencil",
   "metadata": {},
   "source": [
    "# Subquestions"
   ]
  },
  {
   "cell_type": "markdown",
   "id": "agreed-staff",
   "metadata": {},
   "source": [
    "**What quantitative subquestions will you investigate?** "
   ]
  },
  {
   "cell_type": "markdown",
   "id": "controversial-heading",
   "metadata": {},
   "source": [
    "List at least 3 questions that you could answer given the maths and data science tools you know. \n",
    "Your answer here:\n",
    "1. How does grade level impact the time spent on social media\n",
    "2. What is the relationship between most used social media app and grade level"
   ]
  },
  {
   "cell_type": "markdown",
   "id": "infinite-instrument",
   "metadata": {},
   "source": [
    "# Methods and Results"
   ]
  },
  {
   "cell_type": "code",
   "execution_count": 5,
   "id": "basic-canadian",
   "metadata": {},
   "outputs": [],
   "source": [
    "#Import any helper files you need here"
   ]
  },
  {
   "cell_type": "markdown",
   "id": "recognized-positive",
   "metadata": {},
   "source": [
    "## How does grade level impact the time spent on social media"
   ]
  },
  {
   "cell_type": "markdown",
   "id": "graduate-palmer",
   "metadata": {},
   "source": [
    "### Methods"
   ]
  },
  {
   "cell_type": "markdown",
   "id": "endless-variation",
   "metadata": {},
   "source": [
    "**How will you approach this question? What data science tools/functions will you use, and why?**"
   ]
  },
  {
   "cell_type": "markdown",
   "id": "major-proposal",
   "metadata": {},
   "source": [
    "I will be using the scatter plot function in the matplotlib to help me find the relationsship between grade level and time spent on social media. During which I will also use a trend line to clearly identify if the graph shows an upward trend or a downward trend as some points may be overlapped.In addition the function .dropna() was also used in my code, the reason for that was because there was a blank reply from a student which would cause problems for the trend line code .dropna() would be able to remove blank response allowing the trend line to work again.\n"
   ]
  },
  {
   "cell_type": "markdown",
   "id": "enhanced-nation",
   "metadata": {},
   "source": [
    "**Which data will you use, and how will you reorganize / store this data?**"
   ]
  },
  {
   "cell_type": "markdown",
   "id": "promising-gateway",
   "metadata": {},
   "source": [
    "The two data frame which I will be using are grade level and average time spent of social media. To reorganzie the data, I will use the df function which was set from (df = pd.read_csv('data/tech_use_survey_responses_cleaned.csv')) to locate the specific columns which I will be using. After that I specified the data frame to Time_SM_df then used a series of code (eg: Time_SM_df.loc[Time_SM_df[\"time_on_apps_per_week_self_report_social\"]==\"2+ hours\",\"time_on_apps_per_week_self_report_social\"] =180  ) to change the value of time spent on social media the range's max, This allowed me to use/graph the data which also helped to create a trend line."
   ]
  },
  {
   "cell_type": "markdown",
   "id": "juvenile-creation",
   "metadata": {},
   "source": [
    "### Results "
   ]
  },
  {
   "cell_type": "markdown",
   "id": "baking-breakfast",
   "metadata": {},
   "source": [
    "**Include cells here to show the results, which could be either a calculation or a visualization.** "
   ]
  },
  {
   "cell_type": "code",
   "execution_count": 6,
   "id": "straight-manufacturer",
   "metadata": {},
   "outputs": [
    {
     "data": {
      "text/plain": [
       "0      10\n",
       "1     120\n",
       "2     120\n",
       "3      10\n",
       "4     180\n",
       "     ... \n",
       "82     60\n",
       "83     10\n",
       "84     10\n",
       "85     30\n",
       "86     60\n",
       "Name: time_on_apps_per_week_self_report_social, Length: 85, dtype: int64"
      ]
     },
     "execution_count": 6,
     "metadata": {},
     "output_type": "execute_result"
    }
   ],
   "source": [
    "# changing the answer from range to the range's maximum\n",
    "Time_SM_df = df[[\"time_on_apps_per_week_self_report_social\",\"grade\"]].dropna()\n",
    "Time_SM_df.loc[Time_SM_df[\"time_on_apps_per_week_self_report_social\"]==\"< 10m\",\"time_on_apps_per_week_self_report_social\"] =10\n",
    "Time_SM_df.loc[Time_SM_df[\"time_on_apps_per_week_self_report_social\"]==\"1-2 hours\",\"time_on_apps_per_week_self_report_social\"] =120   \n",
    "Time_SM_df.loc[Time_SM_df[\"time_on_apps_per_week_self_report_social\"]==\"10-30m\",\"time_on_apps_per_week_self_report_social\"] =30   \n",
    "Time_SM_df.loc[Time_SM_df[\"time_on_apps_per_week_self_report_social\"]==\"30m-60m\",\"time_on_apps_per_week_self_report_social\"] =60   \n",
    "Time_SM_df.loc[Time_SM_df[\"time_on_apps_per_week_self_report_social\"]==\"2+ hours\",\"time_on_apps_per_week_self_report_social\"] =180   \n",
    "Time_SM_df.head(100)\n",
    "pd.to_numeric(Time_SM_df[\"time_on_apps_per_week_self_report_social\"])\n",
    "\n"
   ]
  },
  {
   "cell_type": "code",
   "execution_count": 7,
   "id": "sunrise-ceremony",
   "metadata": {},
   "outputs": [
    {
     "data": {
      "image/png": "[encoded data removed]",
      "text/plain": [
       "<Figure size 432x288 with 1 Axes>"
      ]
     },
     "metadata": {
      "needs_background": "light"
     },
     "output_type": "display_data"
    }
   ],
   "source": [
    "# Code to create the scatter graph along with the trend line\n",
    "plt.scatter(Time_SM_df[\"grade\"],Time_SM_df[\"time_on_apps_per_week_self_report_social\"])\n",
    "plt.xlabel('Grade Level')\n",
    "plt.ylabel('Averag time spent on social media (mins)')\n",
    "plt.title('Grade level and time spent on social media')\n",
    "y = pd.to_numeric(Time_SM_df[\"time_on_apps_per_week_self_report_social\"])\n",
    "z = np.polyfit(Time_SM_df[\"grade\"], y, 1)\n",
    "p = np.poly1d(z)\n",
    "plt.plot(Time_SM_df[\"grade\"],p(Time_SM_df[\"grade\"]),\"r--\")\n",
    "plt.show()"
   ]
  },
  {
   "cell_type": "markdown",
   "id": "classified-berlin",
   "metadata": {},
   "source": [
    "## How does grade level affect most used social media platform\n"
   ]
  },
  {
   "cell_type": "markdown",
   "id": "nuclear-rider",
   "metadata": {},
   "source": [
    "### Methods"
   ]
  },
  {
   "cell_type": "markdown",
   "id": "previous-jefferson",
   "metadata": {},
   "source": [
    "**How will you approach this question? What data science tools/functions will you use, and why?**"
   ]
  },
  {
   "cell_type": "markdown",
   "id": "checked-financing",
   "metadata": {},
   "source": [
    "I will be using the plt.pie function from matplotlip to help me find percentage of differnt grades that use a variaty of social media apps.A main function which I will be suing will be .count(). THis code would help me to count the number of student which fits the specified grade and social media saving me time."
   ]
  },
  {
   "cell_type": "markdown",
   "id": "metric-african",
   "metadata": {},
   "source": [
    "**Which data will you use, and how will you reorganize / store this data?**"
   ]
  },
  {
   "cell_type": "markdown",
   "id": "bulgarian-russia",
   "metadata": {},
   "source": [
    "The data which I will use includes grade and most used social media apps.To help me organize the data, I will be creating multiple variables for each grade level per social media. During which I will use a code (eg: Instagram_g6 = df.loc[(df[\"most_used_sm_platforms\"]== \"Instagram\")].loc[(df[\"grade\"]== 6)][\"grade\"].count() ) which will first help me to narrow down the applicants which fit the specified specification, in the example it would be uses Instagram and is in grade 6. After that the code will count the total applicants which fits the specification and sets the value as a variable( eg: Instagram_g6) to be used in the pie char. \n",
    "\n"
   ]
  },
  {
   "cell_type": "markdown",
   "id": "impressed-afternoon",
   "metadata": {},
   "source": [
    "### Results "
   ]
  },
  {
   "cell_type": "code",
   "execution_count": 15,
   "id": "infectious-energy",
   "metadata": {},
   "outputs": [
    {
     "name": "stdout",
     "output_type": "stream",
     "text": [
      "3\n"
     ]
    }
   ],
   "source": [
    "i = df.loc[(df[\"most_used_sm_platforms\"]== \"Instagram\")].loc[(df[\"grade\"]== 6)][\"grade\"].count()\n",
    "print(i)\n"
   ]
  },
  {
   "cell_type": "code",
   "execution_count": 16,
   "id": "frank-intake",
   "metadata": {},
   "outputs": [
    {
     "data": {
      "text/html": [
       "<div>\n",
       "<style scoped>\n",
       "    .dataframe tbody tr th:only-of-type {\n",
       "        vertical-align: middle;\n",
       "    }\n",
       "\n",
       "    .dataframe tbody tr th {\n",
       "        vertical-align: top;\n",
       "    }\n",
       "\n",
       "    .dataframe thead th {\n",
       "        text-align: right;\n",
       "    }\n",
       "</style>\n",
       "<table border=\"1\" class=\"dataframe\">\n",
       "  <thead>\n",
       "    <tr style=\"text-align: right;\">\n",
       "      <th></th>\n",
       "      <th>timestamp</th>\n",
       "      <th>grade</th>\n",
       "      <th>gender</th>\n",
       "      <th>num_courses</th>\n",
       "      <th>num_cca</th>\n",
       "      <th>num_homework_hours_per_day</th>\n",
       "      <th>num_after_school_activities_per_week</th>\n",
       "      <th>parental_controls_enabled</th>\n",
       "      <th>parental_controls_app_restrictions_enabled</th>\n",
       "      <th>parental_controls_screen_time_limits_enabled</th>\n",
       "      <th>...</th>\n",
       "      <th>sm_accounts_none</th>\n",
       "      <th>most_used_sm_platforms</th>\n",
       "      <th>time_rest_eyes_after_screen_use</th>\n",
       "      <th>time_stop_use_before_sleep</th>\n",
       "      <th>time_start_use_after_wakeup</th>\n",
       "      <th>sm_activity_frequency_comp_leave_house</th>\n",
       "      <th>sm_activity_frequency_comp_exercise</th>\n",
       "      <th>sm_activity_frequency_comp_social_anxiety</th>\n",
       "      <th>sm_activity_frequency_comp_social_confidence</th>\n",
       "      <th>sm_activity_frequency_comp_community_connection</th>\n",
       "    </tr>\n",
       "  </thead>\n",
       "  <tbody>\n",
       "    <tr>\n",
       "      <th>14</th>\n",
       "      <td>2/1/2021 11:32:26</td>\n",
       "      <td>6</td>\n",
       "      <td>Female</td>\n",
       "      <td>11.0</td>\n",
       "      <td>2.0</td>\n",
       "      <td>1.5</td>\n",
       "      <td>NaN</td>\n",
       "      <td>True</td>\n",
       "      <td>True</td>\n",
       "      <td>True</td>\n",
       "      <td>...</td>\n",
       "      <td>False</td>\n",
       "      <td>Instagram</td>\n",
       "      <td>Often</td>\n",
       "      <td>65.0</td>\n",
       "      <td>60.0</td>\n",
       "      <td>About the same</td>\n",
       "      <td>About the same</td>\n",
       "      <td>Somewhat more often</td>\n",
       "      <td>Somewhat more often</td>\n",
       "      <td>Somewhat more often</td>\n",
       "    </tr>\n",
       "    <tr>\n",
       "      <th>17</th>\n",
       "      <td>2/1/2021 11:42:34</td>\n",
       "      <td>6</td>\n",
       "      <td>Female</td>\n",
       "      <td>2.0</td>\n",
       "      <td>NaN</td>\n",
       "      <td>2.0</td>\n",
       "      <td>5.0</td>\n",
       "      <td>False</td>\n",
       "      <td>NaN</td>\n",
       "      <td>NaN</td>\n",
       "      <td>...</td>\n",
       "      <td>False</td>\n",
       "      <td>Instagram</td>\n",
       "      <td>Sometimes</td>\n",
       "      <td>5.0</td>\n",
       "      <td>2.0</td>\n",
       "      <td>Much more often</td>\n",
       "      <td>Much more often</td>\n",
       "      <td>Much more often</td>\n",
       "      <td>Much more often</td>\n",
       "      <td>Much more often</td>\n",
       "    </tr>\n",
       "    <tr>\n",
       "      <th>73</th>\n",
       "      <td>2/2/2021 13:28:01</td>\n",
       "      <td>6</td>\n",
       "      <td>Female</td>\n",
       "      <td>0.0</td>\n",
       "      <td>0.0</td>\n",
       "      <td>1.0</td>\n",
       "      <td>3.0</td>\n",
       "      <td>True</td>\n",
       "      <td>True</td>\n",
       "      <td>True</td>\n",
       "      <td>...</td>\n",
       "      <td>False</td>\n",
       "      <td>Instagram</td>\n",
       "      <td>Rarely</td>\n",
       "      <td>30.0</td>\n",
       "      <td>15.0</td>\n",
       "      <td>Somewhat less often</td>\n",
       "      <td>Somewhat less often</td>\n",
       "      <td>Somewhat less often</td>\n",
       "      <td>Somewhat less often</td>\n",
       "      <td>Somewhat less often</td>\n",
       "    </tr>\n",
       "  </tbody>\n",
       "</table>\n",
       "<p>3 rows × 56 columns</p>\n",
       "</div>"
      ],
      "text/plain": [
       "            timestamp  grade  gender  num_courses  num_cca  \\\n",
       "14  2/1/2021 11:32:26      6  Female         11.0      2.0   \n",
       "17  2/1/2021 11:42:34      6  Female          2.0      NaN   \n",
       "73  2/2/2021 13:28:01      6  Female          0.0      0.0   \n",
       "\n",
       "    num_homework_hours_per_day  num_after_school_activities_per_week  \\\n",
       "14                         1.5                                   NaN   \n",
       "17                         2.0                                   5.0   \n",
       "73                         1.0                                   3.0   \n",
       "\n",
       "   parental_controls_enabled parental_controls_app_restrictions_enabled  \\\n",
       "14                      True                                       True   \n",
       "17                     False                                        NaN   \n",
       "73                      True                                       True   \n",
       "\n",
       "   parental_controls_screen_time_limits_enabled  ... sm_accounts_none  \\\n",
       "14                                         True  ...            False   \n",
       "17                                          NaN  ...            False   \n",
       "73                                         True  ...            False   \n",
       "\n",
       "   most_used_sm_platforms  time_rest_eyes_after_screen_use  \\\n",
       "14              Instagram                            Often   \n",
       "17              Instagram                        Sometimes   \n",
       "73              Instagram                           Rarely   \n",
       "\n",
       "    time_stop_use_before_sleep time_start_use_after_wakeup  \\\n",
       "14                        65.0                        60.0   \n",
       "17                         5.0                         2.0   \n",
       "73                        30.0                        15.0   \n",
       "\n",
       "   sm_activity_frequency_comp_leave_house sm_activity_frequency_comp_exercise  \\\n",
       "14                         About the same                      About the same   \n",
       "17                        Much more often                     Much more often   \n",
       "73                    Somewhat less often                 Somewhat less often   \n",
       "\n",
       "   sm_activity_frequency_comp_social_anxiety  \\\n",
       "14                       Somewhat more often   \n",
       "17                           Much more often   \n",
       "73                       Somewhat less often   \n",
       "\n",
       "   sm_activity_frequency_comp_social_confidence  \\\n",
       "14                          Somewhat more often   \n",
       "17                              Much more often   \n",
       "73                          Somewhat less often   \n",
       "\n",
       "   sm_activity_frequency_comp_community_connection  \n",
       "14                             Somewhat more often  \n",
       "17                                 Much more often  \n",
       "73                             Somewhat less often  \n",
       "\n",
       "[3 rows x 56 columns]"
      ]
     },
     "execution_count": 16,
     "metadata": {},
     "output_type": "execute_result"
    }
   ],
   "source": [
    "df.loc[(df[\"most_used_sm_platforms\"]== \"Instagram\")].loc[(df[\"grade\"]== 6)]"
   ]
  },
  {
   "cell_type": "markdown",
   "id": "nonprofit-worker",
   "metadata": {},
   "source": [
    "Include cells here to show the results, which could be either a calculation or a visualization."
   ]
  },
  {
   "cell_type": "code",
   "execution_count": 17,
   "id": "prostate-albany",
   "metadata": {},
   "outputs": [],
   "source": [
    "# The following code will count the numebr of students in a specified range\n",
    "    \n",
    "Instagram_g6 = df.loc[(df[\"most_used_sm_platforms\"]== \"Instagram\")].loc[(df[\"grade\"]== 6)][\"grade\"].count()\n",
    "Instagram_g7 = df.loc[(df[\"most_used_sm_platforms\"]== \"Instagram\")].loc[(df[\"grade\"]== 7)][\"grade\"].count()\n",
    "Instagram_g8 = df.loc[(df[\"most_used_sm_platforms\"]== \"Instagram\")].loc[(df[\"grade\"]== 8)][\"grade\"].count()\n",
    "Instagram_g9 = df.loc[(df[\"most_used_sm_platforms\"]== \"Instagram\")].loc[(df[\"grade\"]== 9)][\"grade\"].count()\n",
    "Instagram_g10 = df.loc[(df[\"most_used_sm_platforms\"]== \"Instagram\")].loc[(df[\"grade\"]== 10)][\"grade\"].count()  \n",
    "Instagram_g11 = df.loc[(df[\"most_used_sm_platforms\"]== \"Instagram\")].loc[(df[\"grade\"]== 11)][\"grade\"].count()\n",
    "Instagram_g12 = df.loc[(df[\"most_used_sm_platforms\"]== \"Instagram\")].loc[(df[\"grade\"]== 12)][\"grade\"].count()\n",
    "Grades = [\"G6\",\"G7\",\"G8\",\"G9\",\"G10\",\"G11\",\"G12\"]\n",
    "Instagram_grade = [Instagram_g6, Instagram_g7, Instagram_g8, Instagram_g9, Instagram_g10, Instagram_g11, Instagram_g12]"
   ]
  },
  {
   "cell_type": "code",
   "execution_count": 18,
   "id": "hollow-chassis",
   "metadata": {},
   "outputs": [
    {
     "data": {
      "image/png": "[encoded data removed]",
      "text/plain": [
       "<Figure size 432x288 with 1 Axes>"
      ]
     },
     "metadata": {},
     "output_type": "display_data"
    }
   ],
   "source": [
    "# Code to create the pie chart \n",
    "Grades = [\"G6\",\"G7\",\"G8\",\"G9\",\"G10\",\"G11\",\"G12\"]\n",
    "Instagram_grade = [Instagram_g6, Instagram_g7, Instagram_g8, Instagram_g9, Instagram_g10, Instagram_g11, Instagram_g12]\n",
    "\n",
    "plt.pie(Instagram_grade,            # sets data\n",
    "        labels = Grades,   # sets labels\n",
    "        autopct='%1.1f%%')          # displays values\n",
    "plt.title('Instagram usage from different grades')\n",
    "plt.show()"
   ]
  },
  {
   "cell_type": "code",
   "execution_count": 19,
   "id": "responsible-trainer",
   "metadata": {},
   "outputs": [],
   "source": [
    "\n",
    "# The following code will count the numebr of students in a specified range\n",
    "Discord_g6 = df.loc[(df[\"most_used_sm_platforms\"]== \"Discord\")].loc[(df[\"grade\"]== 6)][\"grade\"].count()\n",
    "Discord_g7 = df.loc[(df[\"most_used_sm_platforms\"]== \"Discord\")].loc[(df[\"grade\"]== 7)][\"grade\"].count()\n",
    "Discord_g8 = df.loc[(df[\"most_used_sm_platforms\"]== \"Discord\")].loc[(df[\"grade\"]== 8)][\"grade\"].count()\n",
    "Discord_g9 = df.loc[(df[\"most_used_sm_platforms\"]== \"Discord\")].loc[(df[\"grade\"]== 9)][\"grade\"].count()\n",
    "Discord_g10 = df.loc[(df[\"most_used_sm_platforms\"]== \"Discord\")].loc[(df[\"grade\"]== 10)][\"grade\"].count()  \n",
    "Discord_g11 = df.loc[(df[\"most_used_sm_platforms\"]== \"Discord\")].loc[(df[\"grade\"]== 11)][\"grade\"].count()\n",
    "Discord_g12 = df.loc[(df[\"most_used_sm_platforms\"]== \"Discord\")].loc[(df[\"grade\"]== 12)][\"grade\"].count()\n",
    "Grades = [\"G6\",\"G7\",\"G8\",\"G9\",\"G10\",\"G11\",\"G12\"]\n",
    "Discord_grade = [Discord_g6, Discord_g7, Discord_g8, Discord_g9, Discord_g10, Discord_g11, Discord_g12]"
   ]
  },
  {
   "cell_type": "code",
   "execution_count": 20,
   "id": "later-illness",
   "metadata": {},
   "outputs": [
    {
     "data": {
      "image/png": "[encoded data removed]",
      "text/plain": [
       "<Figure size 432x288 with 1 Axes>"
      ]
     },
     "metadata": {},
     "output_type": "display_data"
    }
   ],
   "source": [
    "# Code to create the pie chart \n",
    "\n",
    "Grades = [\"G6\",\"G7\",\"G8\",\"G9\",\"G10\",\"G11\",\"G12\"]\n",
    "Discord_grade = [Discord_g6, Discord_g7, Discord_g8, Discord_g9, Discord_g10, Discord_g11, Discord_g12]\n",
    "\n",
    "plt.pie(Discord_grade,            # sets data\n",
    "        labels = Grades,   # sets labels\n",
    "        autopct='%1.1f%%')          # displays values\n",
    "plt.title('Discord usage from different grades')\n",
    "plt.show()"
   ]
  },
  {
   "cell_type": "code",
   "execution_count": 21,
   "id": "historic-heath",
   "metadata": {},
   "outputs": [],
   "source": [
    "# The following code will count the numebr of students in a specified range\n",
    "\n",
    "Youtube_g6 = df.loc[(df[\"most_used_sm_platforms\"]== \"Youtube\")].loc[(df[\"grade\"]== 6)][\"grade\"].count()\n",
    "Youtube_g7 = df.loc[(df[\"most_used_sm_platforms\"]== \"Youtube\")].loc[(df[\"grade\"]== 7)][\"grade\"].count()\n",
    "Youtube_g8 = df.loc[(df[\"most_used_sm_platforms\"]== \"Youtube\")].loc[(df[\"grade\"]== 8)][\"grade\"].count()\n",
    "Youtube_g9 = df.loc[(df[\"most_used_sm_platforms\"]== \"Youtube\")].loc[(df[\"grade\"]== 9)][\"grade\"].count()\n",
    "Youtube_g10 = df.loc[(df[\"most_used_sm_platforms\"]== \"Youtube\")].loc[(df[\"grade\"]== 10)][\"grade\"].count()  \n",
    "Youtube_g11 = df.loc[(df[\"most_used_sm_platforms\"]== \"Youtube\")].loc[(df[\"grade\"]== 11)][\"grade\"].count()\n",
    "Youtube_g12 = df.loc[(df[\"most_used_sm_platforms\"]== \"Youtube\")].loc[(df[\"grade\"]== 12)][\"grade\"].count()\n",
    "Grades = [\"G6\",\"G7\",\"G8\",\"G9\",\"G10\",\"G11\",\"G12\"]\n",
    "Youtube_grade = [Youtube_g6, Youtube_g7, Youtube_g8, Youtube_g9, Youtube_g10, Youtube_g11, Youtube_g12]"
   ]
  },
  {
   "cell_type": "code",
   "execution_count": 22,
   "id": "headed-first",
   "metadata": {},
   "outputs": [
    {
     "data": {
      "image/png": "[encoded data removed]",
      "text/plain": [
       "<Figure size 432x288 with 1 Axes>"
      ]
     },
     "metadata": {},
     "output_type": "display_data"
    }
   ],
   "source": [
    "# Code to create the pie chart \n",
    "\n",
    "Grades = [\"G6\",\"G7\",\"G8\",\"G9\",\"G10\",\"G11\",\"G12\"]\n",
    "Youtube_grade = [Youtube_g6, Youtube_g7, Youtube_g8, Youtube_g9, Youtube_g10, Youtube_g11, Youtube_g12]\n",
    "\n",
    "plt.pie(Youtube_grade,            # sets data\n",
    "        labels = Grades,   # sets labels\n",
    "        autopct='%1.1f%%')          # displays values\n",
    "plt.title('Youtube usage from different grades')\n",
    "plt.show()"
   ]
  },
  {
   "cell_type": "markdown",
   "id": "infectious-symbol",
   "metadata": {},
   "source": [
    "# Discussion"
   ]
  },
  {
   "cell_type": "markdown",
   "id": "beneficial-invasion",
   "metadata": {},
   "source": [
    "## Summary"
   ]
  },
  {
   "cell_type": "markdown",
   "id": "about-raise",
   "metadata": {},
   "source": [
    "**In summary, what did you discover?**"
   ]
  },
  {
   "cell_type": "markdown",
   "id": "bearing-stadium",
   "metadata": {},
   "source": [
    "Sub question 1:\n",
    "I discovered that there was an upward trend in the average time spent on social media as the grade level increases.\n",
    "Sub question 2:\n",
    "Looking at the 3 different charts, i noticed that youtube was most commonly used for younger audienced (g6). While Discord was a mix of both G10 and G7 which in total covered 50% of the usage. But for Instagram it was also G10 who had the majority of students using Instagram."
   ]
  },
  {
   "cell_type": "markdown",
   "id": "seventh-employment",
   "metadata": {},
   "source": [
    "1. The scatter graph was able to answer the first sub question as it showed how the grade level impacted the average time spent on social media.\n",
    "2. The 3 different pie chart shows the percentage of grade level who uses Instagram, Youtube and discord"
   ]
  },
  {
   "cell_type": "markdown",
   "id": "equipped-newsletter",
   "metadata": {},
   "source": [
    "**What was most surprising? What made sense? How does this confirm or disprove other sources?**"
   ]
  },
  {
   "cell_type": "markdown",
   "id": "macro-assist",
   "metadata": {},
   "source": [
    "Sub question 1:\n",
    "What I found most interesting was that there was an upwards trend showing that as the grade level increases the average time spent of social media also increased. This was interesting as from personal experience it is the opposite for me, along with the source I found showing that as age increases the amount of technology used will decrease.\n",
    "Sub question 2:\n",
    "What I found most interesting was that so little seniors answered the survey, as I wasn't aware of this untill I saw a vishual representation."
   ]
  },
  {
   "cell_type": "markdown",
   "id": "furnished-camping",
   "metadata": {
    "code_folding": []
   },
   "source": [
    "## Considerations"
   ]
  },
  {
   "cell_type": "markdown",
   "id": "vocal-crown",
   "metadata": {},
   "source": [
    "**It's important to recognize the limitations of our research as well. Describe a limitation of your dataset. Are there any known biases in the data?**"
   ]
  },
  {
   "cell_type": "markdown",
   "id": "authorized-roots",
   "metadata": {},
   "source": [
    "An important limitation which I only noticed when looking at the pie chart was the variety of participants in the survey. This is because G11-G12 had less participants when compared to lower level grades like G6-9 which may caused biased data for example in the 3 pie charts. A limitation in the dataset was that for the sebquestion 1, time was only given in a rage, making it hard to look like a normal scatter graph. The reason is because there are several points which are over lapping."
   ]
  },
  {
   "cell_type": "markdown",
   "id": "ahead-contributor",
   "metadata": {},
   "source": [
    "Additional Considerations:\n",
    "Since .dropna() was used, blank data was cleared out therefore some data may have been removed impacting the trend line as the mean for each the specific grade level would differ."
   ]
  },
  {
   "cell_type": "markdown",
   "id": "negative-situation",
   "metadata": {},
   "source": [
    "## Next Steps"
   ]
  },
  {
   "cell_type": "markdown",
   "id": "assured-waters",
   "metadata": {},
   "source": [
    "Let's go deeper."
   ]
  },
  {
   "cell_type": "markdown",
   "id": "prescribed-design",
   "metadata": {},
   "source": [
    "**What are some benefits and limitation of using quantitative data?**"
   ]
  },
  {
   "cell_type": "markdown",
   "id": "extra-simon",
   "metadata": {},
   "source": [
    "Using quantitative data can allow for us to collect more personal responses as participants could express how they feel about certain questions and not only respond with numbers which would be classed as quantitative data. But some disadvantages of using quantitative data would be if the participants mis understood the question, the data collected could be rather inaccurate as the answer would be different from what's expected."
   ]
  },
  {
   "cell_type": "markdown",
   "id": "resistant-dubai",
   "metadata": {},
   "source": [
    "**How would we address the limitations?**"
   ]
  },
  {
   "cell_type": "markdown",
   "id": "wrapped-comfort",
   "metadata": {},
   "source": [
    "To address the limitations of asking a qualitative question, we could ask several of our classmates to check and verify the question is indeed what we would like to ask. By doing this it would lower the chances of someone mistaken the question for something else."
   ]
  },
  {
   "cell_type": "markdown",
   "id": "mature-dealing",
   "metadata": {},
   "source": [
    "**Imagine you have time and access to research participants who are willing to talk to you or have you observe them. What qualitative questions would you ask them that cannot be answered with quantitative analysis?**"
   ]
  },
  {
   "cell_type": "markdown",
   "id": "appreciated-paper",
   "metadata": {},
   "source": [
    "I would like to ask them why do they think that their technology use have increased/ decreased as the go to higher and higher grades."
   ]
  },
  {
   "cell_type": "markdown",
   "id": "weekly-vinyl",
   "metadata": {},
   "source": [
    "**Who would you like to share these findings with, and why?**"
   ]
  },
  {
   "cell_type": "markdown",
   "id": "palestinian-pacific",
   "metadata": {},
   "source": [
    "I would like to share this with parents as I think that parents generally don't quite know what teens are thinking, therefore this informaiton so parents may find interesting."
   ]
  },
  {
   "cell_type": "markdown",
   "id": "interested-coaching",
   "metadata": {},
   "source": [
    "**Why does it matter? + What are some benefits of using quantitative data**"
   ]
  },
  {
   "cell_type": "markdown",
   "id": "surprised-norway",
   "metadata": {},
   "source": [
    "This matters because parents can get to know more about their child and why they do they spend their time on social media. "
   ]
  }
 ],
 "metadata": {
  "jupytext": {
   "cell_metadata_json": true,
   "text_representation": {
    "extension": ".Rmd",
    "format_name": "rmarkdown",
    "format_version": "1.2",
    "jupytext_version": "1.9.1"
   }
  },
  "kernelspec": {
   "display_name": "Python 3",
   "language": "python",
   "name": "python3"
  },
  "language_info": {
   "codemirror_mode": {
    "name": "ipython",
    "version": 3
   },
   "file_extension": ".py",
   "mimetype": "text/x-python",
   "name": "python",
   "nbconvert_exporter": "python",
   "pygments_lexer": "ipython3",
   "version": "3.8.5"
  },
  "toc": {
   "base_numbering": 1,
   "nav_menu": {},
   "number_sections": true,
   "sideBar": true,
   "skip_h1_title": false,
   "title_cell": "Table of Contents",
   "title_sidebar": "Contents",
   "toc_cell": false,
   "toc_position": {},
   "toc_section_display": true,
   "toc_window_display": false
  },
  "varInspector": {
   "cols": {
    "lenName": 16,
    "lenType": 16,
    "lenVar": 40
   },
   "kernels_config": {
    "python": {
     "delete_cmd_postfix": "",
     "delete_cmd_prefix": "del ",
     "library": "var_list.py",
     "varRefreshCmd": "print(var_dic_list())"
    },
    "r": {
     "delete_cmd_postfix": ") ",
     "delete_cmd_prefix": "rm(",
     "library": "var_list.r",
     "varRefreshCmd": "cat(var_dic_list()) "
    }
   },
   "types_to_exclude": [
    "module",
    "function",
    "builtin_function_or_method",
    "instance",
    "_Feature"
   ],
   "window_display": false
  }
 },
 "nbformat": 4,
 "nbformat_minor": 5
}
